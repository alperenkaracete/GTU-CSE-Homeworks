{
  "nbformat": 4,
  "nbformat_minor": 0,
  "metadata": {
    "colab": {
      "provenance": []
    },
    "kernelspec": {
      "name": "python3",
      "display_name": "Python 3"
    },
    "language_info": {
      "name": "python"
    }
  },
  "cells": [
    {
      "cell_type": "code",
      "execution_count": null,
      "metadata": {
        "id": "D48mJHK-YVEH"
      },
      "outputs": [],
      "source": [
        "from pickle import load\n",
        "from numpy import array\n",
        "from keras.preprocessing.text import Tokenizer\n",
        "from keras_preprocessing.sequence import pad_sequences\n",
        "from keras.utils import to_categorical\n",
        "from keras.utils.vis_utils import plot_model\n",
        "from keras.models import Sequential\n",
        "from keras.layers import LSTM\n",
        "from keras.layers import Dense\n",
        "from keras.layers import Embedding\n",
        "from keras.layers import RepeatVector\n",
        "from keras.layers import TimeDistributed\n",
        "from keras.callbacks import ModelCheckpoint\n",
        "import string\n",
        "import re\n",
        "from pickle import dump\n",
        "from unicodedata import normalize\n",
        "from numpy import array\n",
        "from numpy.random import rand\n",
        "from numpy.random import shuffle\n",
        "from keras.models import load_model\n",
        "from nltk.translate.bleu_score import corpus_bleu\n",
        "from numpy import argmax"
      ]
    },
    {
      "cell_type": "code",
      "source": [
        "# load doc into memory\n",
        "def load_doc(filename):\n",
        "\t# open the file as read only\n",
        "\tfile = open(filename, mode='rt', encoding='utf-8')\n",
        "\t# read all text\n",
        "\ttext = file.read()\n",
        "\t# close the file\n",
        "\tfile.close()\n",
        "\treturn text"
      ],
      "metadata": {
        "id": "yuHHx4ozy5oE"
      },
      "execution_count": null,
      "outputs": []
    },
    {
      "cell_type": "code",
      "source": [
        "# split a loaded document into sentences\n",
        "def to_pairs(doc):\n",
        " lines = doc.strip().split('\\n')\n",
        " pairs = [line.split('\\t') for line in  lines]\n",
        " return pairs"
      ],
      "metadata": {
        "id": "V8GIfbIcYjTw"
      },
      "execution_count": null,
      "outputs": []
    },
    {
      "cell_type": "code",
      "source": [
        "# clean a list of lines\n",
        "def clean_pairs(lines):\n",
        "\tcleaned = list()\n",
        "\t# prepare regex for char filtering\n",
        "\tre_print = re.compile('[^%s]' % re.escape(string.printable))\n",
        "\t# prepare translation table for removing punctuation\n",
        "\ttable = str.maketrans('', '', string.punctuation)\n",
        "\tfor pair in lines:\n",
        "\t\tclean_pair = list()\n",
        "\t\tfor line in pair:\n",
        "\t\t\t# normalize unicode characters\n",
        "\t\t\tline = normalize('NFD', line).encode('ascii', 'ignore')\n",
        "\t\t\tline = line.decode('UTF-8')\n",
        "\t\t\t# tokenize on white space\n",
        "\t\t\tline = line.split()\n",
        "\t\t\t# convert to lowercase\n",
        "\t\t\tline = [word.lower() for word in line]\n",
        "\t\t\t# remove punctuation from each token\n",
        "\t\t\tline = [word.translate(table) for word in line]\n",
        "\t\t\t# remove non-printable chars form each token\n",
        "\t\t\tline = [re_print.sub('', w) for w in line]\n",
        "\t\t\t# remove tokens with numbers in them\n",
        "\t\t\t#line = [word for word in line if word.isalpha()]\n",
        "\t\t\t# store as string\n",
        "\t\t\tclean_pair.append(' '.join(line))\n",
        "\t\tcleaned.append(clean_pair)\n",
        "\treturn array(cleaned)"
      ],
      "metadata": {
        "id": "VpU_tdE7Yl0I"
      },
      "execution_count": null,
      "outputs": []
    },
    {
      "cell_type": "code",
      "source": [
        "def save_clean_data(sentences, filename):\n",
        " dump(sentences, open(filename, 'wb'))\n",
        " print('Saved: %s' % filename)"
      ],
      "metadata": {
        "id": "JDPzxIWvY3to"
      },
      "execution_count": null,
      "outputs": []
    },
    {
      "cell_type": "code",
      "source": [
        "def load_clean_sentences(filename):\n",
        " return load(open(filename, 'rb'))"
      ],
      "metadata": {
        "id": "F98AM3umEW7V"
      },
      "execution_count": null,
      "outputs": []
    },
    {
      "cell_type": "code",
      "source": [
        "# fit a tokenizer\n",
        "def create_tokenizer(lines):\n",
        "\ttokenizer = Tokenizer()\n",
        "\ttokenizer.fit_on_texts(lines)\n",
        "\treturn tokenizer"
      ],
      "metadata": {
        "id": "8SkHHbYAIRWK"
      },
      "execution_count": null,
      "outputs": []
    },
    {
      "cell_type": "code",
      "source": [
        "# max sentence length\n",
        "def max_length(lines):\n",
        "\treturn max(len(line.split()) for line in lines)"
      ],
      "metadata": {
        "id": "2UwNAcXAIVFp"
      },
      "execution_count": null,
      "outputs": []
    },
    {
      "cell_type": "code",
      "source": [
        "# encode and pad sequences\n",
        "def encode_sequences(tokenizer, length, lines):\n",
        "\t# integer encode sequences\n",
        "\tX = tokenizer.texts_to_sequences(lines)\n",
        "\t# pad sequences with 0 values\n",
        "\tX = pad_sequences(X, maxlen=length, padding='post')\n",
        "\treturn X"
      ],
      "metadata": {
        "id": "Zms1_Dblyqph"
      },
      "execution_count": null,
      "outputs": []
    },
    {
      "cell_type": "code",
      "source": [
        "# one hot encode target sequence\n",
        "def encode_output(sequences, vocab_size):\n",
        "\tylist = list()\n",
        "\tfor sequence in sequences:\n",
        "\t\tencoded = to_categorical(sequence, num_classes=vocab_size)\n",
        "\t\tylist.append(encoded)\n",
        "\ty = array(ylist)\n",
        "\ty = y.reshape(sequences.shape[0], sequences.shape[1], vocab_size)\n",
        "\treturn y"
      ],
      "metadata": {
        "id": "WEGsDrYjyqwd"
      },
      "execution_count": null,
      "outputs": []
    },
    {
      "cell_type": "code",
      "source": [
        "# define NMT model\n",
        "def define_model(src_vocab, tar_vocab, src_timesteps, tar_timesteps, n_units):\n",
        "\tmodel = Sequential()\n",
        "\tmodel.add(Embedding(src_vocab, n_units, input_length=src_timesteps, mask_zero=True))\n",
        "\tmodel.add(LSTM(n_units))\n",
        "\tmodel.add(RepeatVector(tar_timesteps))\n",
        "\tmodel.add(LSTM(n_units, return_sequences=True))\n",
        "\tmodel.add(TimeDistributed(Dense(tar_vocab, activation='softmax')))\n",
        "\treturn model"
      ],
      "metadata": {
        "id": "CpAUGKgE2bKr"
      },
      "execution_count": null,
      "outputs": []
    },
    {
      "cell_type": "code",
      "source": [
        "# map an integer to a word\n",
        "def word_for_id(integer, tokenizer):\n",
        "\tfor word, index in tokenizer.word_index.items():\n",
        "\t\tif index == integer:\n",
        "\t\t\treturn word\n",
        "\treturn None"
      ],
      "metadata": {
        "id": "6drjkzi_KX9e"
      },
      "execution_count": null,
      "outputs": []
    },
    {
      "cell_type": "code",
      "source": [
        "# load dataset\n",
        "filename = 'dataset.old.txt'\n",
        "\n",
        "filename2 = 'dataset.new.txt'\n",
        "\n",
        "with open('dataset.old.txt') as file1, open('dataset.new.txt') as file2, open('fulldata.txt', 'w') as outfile:\n",
        "    for line1, line2 in zip(file1, file2):\n",
        "        outfile.write(line1.strip() + '\\t' + line2.strip() + '\\n')\n",
        "# split into ottoman-turkiye turkish pairs\n",
        "filename = 'fulldata.txt'\n",
        "\n",
        "doc = load_doc(filename)\n",
        "pairs = to_pairs(doc)\n",
        "# clean sentences\n",
        "dataset_size = 1000; #dataset size\n",
        "otto_turkish = clean_pairs(pairs)\n",
        "otto_turkish = otto_turkish[:dataset_size]\n",
        "# save clean pairs to file\n",
        "\n",
        "save_clean_data(otto_turkish, 'ottoman-turkey-turkish.txt')\n",
        "# spot check\n",
        "\n",
        "raw_dataset = load_clean_sentences('ottoman-turkey-turkish.txt')\n",
        " \n",
        "# reduce dataset size\n",
        "n_sentences = dataset_size\n",
        "dataset = raw_dataset[:n_sentences, :]\n",
        "# random shuffle\n",
        "shuffle(dataset)\n",
        "# split into train/test\n",
        "train, test = dataset[:900], dataset[900:] #9/10*datasize for traning,1/10 for testing\n",
        "# save\n",
        "save_clean_data(dataset, 'ottoman-turkey-turkish-both.pkl')\n",
        "save_clean_data(train, 'ottoman-turkey-turkish-train.pkl')\n",
        "save_clean_data(test, 'ottoman-turkey-turkish-test.pkl') \n",
        "\n",
        "# load datasets\n",
        "dataset = load_clean_sentences('ottoman-turkey-turkish-both.pkl')\n",
        "train = load_clean_sentences('ottoman-turkey-turkish-train.pkl')\n",
        "test = load_clean_sentences('ottoman-turkey-turkish-test.pkl')\n"
      ],
      "metadata": {
        "colab": {
          "base_uri": "https://localhost:8080/"
        },
        "id": "sw31ILrpY4Ie",
        "outputId": "1af264b1-595b-4f90-cf29-afbd0f73dede"
      },
      "execution_count": null,
      "outputs": [
        {
          "output_type": "stream",
          "name": "stdout",
          "text": [
            "Saved: ottoman-turkey-turkish.txt\n",
            "Saved: ottoman-turkey-turkish-both.pkl\n",
            "Saved: ottoman-turkey-turkish-train.pkl\n",
            "Saved: ottoman-turkey-turkish-test.pkl\n"
          ]
        }
      ]
    },
    {
      "cell_type": "code",
      "source": [
        "# prepare ottoman turkish tokenizer\n",
        "ottoman_turkish_tokenizer = create_tokenizer(dataset[:, 0])\n",
        "ottoman_turkish_vocab_size = len(ottoman_turkish_tokenizer.word_index) + 1\n",
        "ottoman_turkish_length = max_length(dataset[:, 0])\n",
        "print('Ottoman Turkish Vocabulary Size: %d' % ottoman_turkish_vocab_size)\n",
        "print('Ottoman Turkish Max Length: %d' % (ottoman_turkish_length))\n",
        "# prepare turkey turkish tokenizer\n",
        "turkey_turkish_tokenizer = create_tokenizer(dataset[:, 1])\n",
        "turkey_turkish_vocab_size = len(turkey_turkish_tokenizer.word_index) + 1\n",
        "turkey_turkish_length = max_length(dataset[:, 1])\n",
        "print('Türkiye Turkish Vocabulary Size: %d' % turkey_turkish_vocab_size)\n",
        "print('Türkiye Turkish Max Length: %d' % (turkey_turkish_length))"
      ],
      "metadata": {
        "colab": {
          "base_uri": "https://localhost:8080/"
        },
        "id": "HVmztizRxygd",
        "outputId": "2615a94c-4935-46f6-a94a-d0e2e01a940e"
      },
      "execution_count": null,
      "outputs": [
        {
          "output_type": "stream",
          "name": "stdout",
          "text": [
            "Ottoman Turkish Vocabulary Size: 5066\n",
            "Ottoman Turkish Max Length: 97\n",
            "Türkiye Turkish Vocabulary Size: 5118\n",
            "Türkiye Turkish Max Length: 94\n"
          ]
        }
      ]
    },
    {
      "cell_type": "code",
      "source": [
        "# prepare training data\n",
        "trainX = encode_sequences(turkey_turkish_tokenizer, turkey_turkish_length, train[:, 1])\n",
        "trainY = encode_sequences(ottoman_turkish_tokenizer, ottoman_turkish_length, train[:, 0])\n",
        "trainY = encode_output(trainY, ottoman_turkish_vocab_size)\n",
        "# prepare validation data\n",
        "testX = encode_sequences(turkey_turkish_tokenizer, turkey_turkish_length, test[:, 1])\n",
        "testY = encode_sequences(ottoman_turkish_tokenizer, ottoman_turkish_length, test[:, 0])\n",
        "testY = encode_output(testY, ottoman_turkish_vocab_size)"
      ],
      "metadata": {
        "id": "5438kkppIrmL"
      },
      "execution_count": null,
      "outputs": []
    },
    {
      "cell_type": "code",
      "source": [
        "# define model\n",
        "model = define_model(turkey_turkish_vocab_size, ottoman_turkish_vocab_size, turkey_turkish_length, ottoman_turkish_length, 256)\n",
        "model.compile(optimizer='adam', loss='categorical_crossentropy')\n",
        "# summarize defined model\n",
        "print(model.summary())\n",
        "plot_model(model, to_file='model.png', show_shapes=True)"
      ],
      "metadata": {
        "id": "JeyPqxPw2c_2",
        "colab": {
          "base_uri": "https://localhost:8080/",
          "height": 1000
        },
        "outputId": "97c1f343-4621-4026-dc59-9d0e01b78257"
      },
      "execution_count": null,
      "outputs": [
        {
          "output_type": "stream",
          "name": "stdout",
          "text": [
            "Model: \"sequential\"\n",
            "_________________________________________________________________\n",
            " Layer (type)                Output Shape              Param #   \n",
            "=================================================================\n",
            " embedding (Embedding)       (None, 94, 256)           1310208   \n",
            "                                                                 \n",
            " lstm (LSTM)                 (None, 256)               525312    \n",
            "                                                                 \n",
            " repeat_vector (RepeatVector  (None, 97, 256)          0         \n",
            " )                                                               \n",
            "                                                                 \n",
            " lstm_1 (LSTM)               (None, 97, 256)           525312    \n",
            "                                                                 \n",
            " time_distributed (TimeDistr  (None, 97, 5066)         1301962   \n",
            " ibuted)                                                         \n",
            "                                                                 \n",
            "=================================================================\n",
            "Total params: 3,662,794\n",
            "Trainable params: 3,662,794\n",
            "Non-trainable params: 0\n",
            "_________________________________________________________________\n",
            "None\n"
          ]
        },
        {
          "output_type": "execute_result",
          "data": {
            "image/png": "[encoded data removed]",
            "text/plain": [
              "<IPython.core.display.Image object>"
            ]
          },
          "metadata": {},
          "execution_count": 16
        }
      ]
    },
    {
      "cell_type": "code",
      "source": [
        "# fit model\n",
        "filename = 'model.h5'\n",
        "checkpoint = ModelCheckpoint(filename, monitor='val_loss', verbose=1, save_best_only=True, mode='min')\n",
        "model.fit(trainX, trainY, epochs=5, batch_size=64, validation_data=(testX, testY), callbacks=[checkpoint], verbose=2)"
      ],
      "metadata": {
        "id": "uXqDJMCj2vDf",
        "colab": {
          "base_uri": "https://localhost:8080/"
        },
        "outputId": "c7659593-4166-4b9c-d6df-e938743811de"
      },
      "execution_count": null,
      "outputs": [
        {
          "output_type": "stream",
          "name": "stdout",
          "text": [
            "Epoch 1/5\n",
            "\n",
            "Epoch 1: val_loss improved from inf to 1.98559, saving model to model.h5\n",
            "15/15 - 53s - loss: 6.3979 - val_loss: 1.9856 - 53s/epoch - 4s/step\n",
            "Epoch 2/5\n",
            "\n",
            "Epoch 2: val_loss improved from 1.98559 to 1.68514, saving model to model.h5\n",
            "15/15 - 44s - loss: 1.6040 - val_loss: 1.6851 - 44s/epoch - 3s/step\n",
            "Epoch 3/5\n",
            "\n",
            "Epoch 3: val_loss improved from 1.68514 to 1.52638, saving model to model.h5\n",
            "15/15 - 44s - loss: 1.5436 - val_loss: 1.5264 - 44s/epoch - 3s/step\n",
            "Epoch 4/5\n",
            "\n",
            "Epoch 4: val_loss improved from 1.52638 to 1.37116, saving model to model.h5\n",
            "15/15 - 44s - loss: 1.3366 - val_loss: 1.3712 - 44s/epoch - 3s/step\n",
            "Epoch 5/5\n",
            "\n",
            "Epoch 5: val_loss improved from 1.37116 to 1.34963, saving model to model.h5\n",
            "15/15 - 44s - loss: 1.2890 - val_loss: 1.3496 - 44s/epoch - 3s/step\n"
          ]
        },
        {
          "output_type": "execute_result",
          "data": {
            "text/plain": [
              "<keras.callbacks.History at 0x7f4f5edfaee0>"
            ]
          },
          "metadata": {},
          "execution_count": 17
        }
      ]
    },
    {
      "cell_type": "code",
      "source": [
        "# generate target given source sequence\n",
        "def predict_sequence(model, tokenizer, source):\n",
        "\tprediction = model.predict(source, verbose=0)[0]\n",
        "\tintegers = [argmax(vector) for vector in prediction]\n",
        "\ttarget = list()\n",
        "\tfor i in integers:\n",
        "\t\tword = word_for_id(i, tokenizer)\n",
        "\t\tif word is None:\n",
        "\t\t\tbreak\n",
        "\t\ttarget.append(word)\n",
        "\treturn ' '.join(target)"
      ],
      "metadata": {
        "id": "4-ZuubmBc_4I"
      },
      "execution_count": null,
      "outputs": []
    },
    {
      "cell_type": "code",
      "source": [
        "# evaluate the skill of the model\n",
        "def evaluate_model(model, tokenizer, sources, raw_dataset):\n",
        "\tactual, predicted = list(), list()\n",
        "\tfor i, source in enumerate(sources):\n",
        "\t\t# translate encoded source text\n",
        "\t\tsource = source.reshape((1, source.shape[0]))\n",
        "\t\ttranslation = predict_sequence(model, ottoman_turkish_tokenizer, source)\n",
        "\t\traw_target, raw_src = raw_dataset[i]\n",
        "\t\tif i < 10:\n",
        "\t\t\tprint('src=[%s], target=[%s], predicted=[%s]' % (raw_src, raw_target, translation))\n",
        "\t\tactual.append([raw_target.split()])\n",
        "\t\tpredicted.append(translation.split())\n",
        "\t# calculate BLEU score\n",
        "\tprint('BLEU-1: %f' % corpus_bleu(actual, predicted, weights=(1.0, 0, 0, 0)))\n",
        "\tprint('BLEU-2: %f' % corpus_bleu(actual, predicted, weights=(0.5, 0.5, 0, 0)))\n",
        "\tprint('BLEU-3: %f' % corpus_bleu(actual, predicted, weights=(0.3, 0.3, 0.3, 0)))\n",
        "\tprint('BLEU-4: %f' % corpus_bleu(actual, predicted, weights=(0.25, 0.25, 0.25, 0.25)))"
      ],
      "metadata": {
        "id": "YQRxdmqVdE6R"
      },
      "execution_count": null,
      "outputs": []
    },
    {
      "cell_type": "code",
      "source": [
        "# load datasets\n",
        "dataset = load_clean_sentences('ottoman-turkey-turkish-both.pkl')\n",
        "train = load_clean_sentences('ottoman-turkey-turkish-train.pkl')\n",
        "test = load_clean_sentences('ottoman-turkey-turkish-test.pkl')\n",
        "#prepare ottoman turkish tokenizer\n",
        "ottoman_turkish_tokenizer = create_tokenizer(dataset[:, 0])\n",
        "ottoman_turkish_vocab_size = len(ottoman_turkish_tokenizer.word_index) + 1\n",
        "ottoman_turkish_length = max_length(dataset[:, 0])\n",
        "# prepare turkiye turkish tokenizer\n",
        "turkey_turkish_tokenizer = create_tokenizer(dataset[:, 1])\n",
        "turkey_turkish_vocab_size = len(turkey_turkish_tokenizer.word_index) + 1\n",
        "turkey_turkish_length = max_length(dataset[:, 1])\n",
        "# prepare data\n",
        "trainX = encode_sequences(turkey_turkish_tokenizer, turkey_turkish_length, train[:, 1])\n",
        "testX = encode_sequences(turkey_turkish_tokenizer, turkey_turkish_length, test[:, 1])\n",
        "\n",
        "# load model\n",
        "model = load_model('model.h5')\n",
        "# test on some training sequences\n",
        "print('train')\n",
        "evaluate_model(model, ottoman_turkish_tokenizer, trainX, train)\n",
        "# test on some test sequences\n",
        "print('test')\n",
        "evaluate_model(model, ottoman_turkish_tokenizer, testX, test)"
      ],
      "metadata": {
        "id": "3LSC1YVLbRye",
        "colab": {
          "base_uri": "https://localhost:8080/"
        },
        "outputId": "3b15219b-69ef-4175-9f8f-1839636de844"
      },
      "execution_count": null,
      "outputs": [
        {
          "output_type": "stream",
          "name": "stdout",
          "text": [
            "train\n",
            "src=[trakyapasaeli derneginin basindakilerden bazilariyla daha istanbuldayken gorusmustum ], target=[trakyapasaeli cemiyetinin ruesasndan bazlarile daha istanbulda iken gorusmus idim ], predicted=[]\n",
            "src=[k  o ], target=[k  o ], predicted=[]\n",
            "src=[illerden delege getirilmesi icin o tarihten baslayarak benim erzuruma varisima kadar ve ondan sonra da  bu konuda olaganustu caba gosterdi ], target=[vilayetlerden murahhas celbi icin o tarihten itibaren  benim erzuruma muvasalatma kadar ve ondan sonra da  bu hususta fevkalade sarf gayret etti ], predicted=[]\n",
            "src=[bu busbutun garibime gitmisti ], target=[bu busbutun istigrabm mucip olmustu ], predicted=[]\n",
            "src=[birkac kez gelmesi icin emir vermistim ], target=[birkac defa gelmesi icin emir vermistim ], predicted=[]\n",
            "src=[gibi hakli birtakim kuruntulara kapilmasi olmaz degildi ], target=[gibi bihakkn birtakm tevehhumata kaplmas mustebat degildi ], predicted=[]\n",
            "src=[resit pasa   efendim birkac dakika daha dinlenmez misiniz  diye soze basladi ], target=[resit pasa   efendim birkac dakika daha istirahat buyurulmaz m  diye soze baslad ], predicted=[]\n",
            "src=[guney yonlerden sivasa gelecek bir baskin ozellikle bu il halkinin kansizligi nedenile anadoluyu ikiye ayirir ve pek tehlikeli olur ], target=[cenup istikametlerinden svasa gelecek bir darbe bilhassa bu vilayet ahalisinin kanszlg sebebile anadoluyu ikiye ayrr ve pek tehlikeli olur ], predicted=[]\n",
            "src=[yunanlilar bunlari gemilerle mudanyaya goturmusler ], target=[yunanllar bunlar gemilerle mudanyaya nakletmisler ], predicted=[]\n",
            "src=[vasif bey once  mandanin tanimi uzerinde uzun bir konusma yapti ], target=[vasf bey evvela  mandann tarifi hakknda uzun beyanatta bulundu ], predicted=[]\n",
            "BLEU-1: 0.000000\n",
            "BLEU-2: 0.000000\n",
            "BLEU-3: 0.000000\n",
            "BLEU-4: 0.000000\n",
            "test\n",
            "src=[ozel odevi bulunduguna suphe etmemek gereken  ali galip  orada hemen kuvvetli yandaslar bulmus ], target=[vazifei mahsusas bulunduguna suphe etmemek lazmgelen  ali galip  orada derhal kuvvetli taraftarlar bulmus ], predicted=[]\n",
            "src=[dedim ], target=[dedim ], predicted=[]\n",
            "src=[bu yonetmeligi okuyan  bana en yakin komutanlar bile  bu girisimi benim yaptigimi sanarak cok kuskulanmis ve kararsiz kalmislar ], target=[bu talimatnameyi okuyan  bana en yakn kumandanlar dahi  bu tesebbusu sahsma atfederek bircok suphe ve tereddutlere dusmusler ], predicted=[]\n",
            "src=[icisleri bakanligindan dun aldigim sifreli telgraf da baska sekilde yazilmakla birlikte ayni kanaati verecek yolda idi ], target=[dahiliye nezaretinden dun aldgm sifreli telgraf da baska sekilde yazlmakla beraber ayn kanaati verecek zeminde idi ], predicted=[]\n",
            "src=[g  bugunku hukumetin politikasi nedir ], target=[g  hukumeti hazrann siyaseti nedir ], predicted=[]\n",
            "src=[antalya ve konyada  italyan birlikleri  merzifon ve samsunda ingiliz askerleri bulunuyor ], target=[antalya ve konyada  italyan ktaat askeriyesi  merzifon ve samsunda ingiliz askerleri bulunuyor ], predicted=[]\n",
            "src=[bu tarihlerde  erzurum subesi yonetim kurulu baskani raif efendi ve uye haci hafiz efendi  suleyman bey  maksut bey  mesut bey  necati bey  ahmet bey  kazim bey ve katip cevat bey idi ], target=[bu tarihlerde  erzurum subesi heyeti idaresi reisi raif efendi ve aza hac hafz efendi  suleyman bey  maksut bey  mesut bey  necati bey  ahmet bey  kazm bey ve katip cevat bey idi ], predicted=[]\n",
            "src=[bu nedenledir ki tarafimizdan yabancilarla gorusme ve iliskilerin  kongrenin kararlarina dayandirilarak  ulus adina yapilmasini yegleriz ], target=[bu sebebe mebnidir ki tarafmzdan ecanip ile temas ve irtibatn kongrenin mukarreratna istinat ettirerek millet namna yaplmasn tercih etmekteyiz ], predicted=[]\n",
            "src=[bu sure icinde butun ordu bolumleriyle iliski ve baglanti saglanmis ve ulus elden geldigince aydinlatilarak uyarilmis  ulusca orgutlenme dusuncesi yayilmaya baslamisti ], target=[bu muddet zarfnda butun ordular aksamile temas ve irtibat temin edilmis ve millet mumkun oldugu kadar tenvir edilerek teyakkuz ve intibaha getirilmis  teskilat milliye fikri taammume baslamstr ], predicted=[]\n",
            "src=[ve yola ciktim ], target=[ve hareket ettim ], predicted=[]\n",
            "BLEU-1: 0.000000\n",
            "BLEU-2: 0.000000\n",
            "BLEU-3: 0.000000\n",
            "BLEU-4: 0.000000\n"
          ]
        }
      ]
    }
  ]
}